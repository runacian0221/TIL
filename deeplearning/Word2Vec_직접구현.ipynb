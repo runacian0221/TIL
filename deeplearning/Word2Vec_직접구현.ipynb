{
  "nbformat": 4,
  "nbformat_minor": 0,
  "metadata": {
    "colab": {
      "provenance": []
    },
    "kernelspec": {
      "name": "python3",
      "display_name": "Python 3"
    },
    "language_info": {
      "name": "python"
    }
  },
  "cells": [
    {
      "cell_type": "code",
      "execution_count": 1,
      "metadata": {
        "id": "dv_KoOF6Nt7P"
      },
      "outputs": [],
      "source": [
        "import numpy as np\n",
        "\n",
        "sent = 'you will never know until you try'\n",
        "tokens = sent.split()\n",
        "\n",
        "V = len(set(tokens)) # 6\n",
        "N = 4\n",
        "\n",
        "# 가중치 행렬\n",
        "W1 = np.random.rand(V, N)\n",
        "W2 = np.random.rand(V, N)"
      ]
    },
    {
      "cell_type": "code",
      "source": [
        "# 원핫인코딩 + 단어-인덱스 딕셔너리, 인덱스-단어 딕셔너리 생성\n",
        "onehot_vector = np.zeros(shape=(V, V), dtype=np.int32) \n",
        "unique_tokens = set(tokens)\n",
        "\n",
        "word2idx = {}\n",
        "for idx, word in enumerate(unique_tokens):\n",
        "    onehot_vector[idx][idx] = 1\n",
        "    word2idx[word] = idx\n",
        "\n",
        "idx2word = {v: k for k, v in word2idx.items()}\n",
        "\n",
        "print(onehot_vector)\n",
        "print(word2idx)\n",
        "print(idx2word)"
      ],
      "metadata": {
        "colab": {
          "base_uri": "https://localhost:8080/"
        },
        "id": "foqA7yhuBP2Q",
        "outputId": "0d58e374-ef6e-44de-d7e5-24b7d10ad942"
      },
      "execution_count": 2,
      "outputs": [
        {
          "output_type": "stream",
          "name": "stdout",
          "text": [
            "[[1 0 0 0 0 0]\n",
            " [0 1 0 0 0 0]\n",
            " [0 0 1 0 0 0]\n",
            " [0 0 0 1 0 0]\n",
            " [0 0 0 0 1 0]\n",
            " [0 0 0 0 0 1]]\n",
            "{'try': 0, 'never': 1, 'you': 2, 'know': 3, 'will': 4, 'until': 5}\n",
            "{0: 'try', 1: 'never', 2: 'you', 3: 'know', 4: 'will', 5: 'until'}\n"
          ]
        }
      ]
    },
    {
      "cell_type": "code",
      "source": [
        "# 학습 데이터 생성\n",
        "window_size = 1\n",
        "\n",
        "training_data = []\n",
        "for i, token in enumerate(tokens):\n",
        "    target_word = token\n",
        "    context_words = []\n",
        "    for window in range(1, window_size+1):\n",
        "        if i-window >= 0:\n",
        "            context_words.append(tokens[i-window])\n",
        "        if i+window < len(tokens):\n",
        "            context_words.append(tokens[i+window])\n",
        "    # context_words = [tokens[i-1], tokens[i+1]]\n",
        "\n",
        "    training_data.append([context_words, target_word])"
      ],
      "metadata": {
        "id": "YYuefUPyPb5Y"
      },
      "execution_count": 3,
      "outputs": []
    },
    {
      "cell_type": "code",
      "source": [
        "W1, W2"
      ],
      "metadata": {
        "colab": {
          "base_uri": "https://localhost:8080/"
        },
        "id": "k0l0KOqPBeLY",
        "outputId": "d6fafa35-2e11-4156-a2ce-781f8bca29ca"
      },
      "execution_count": 5,
      "outputs": [
        {
          "output_type": "execute_result",
          "data": {
            "text/plain": [
              "(array([[0.87235086, 0.47503846, 0.83261872, 0.21165417],\n",
              "        [0.62061969, 0.83621552, 0.97178442, 0.56747298],\n",
              "        [0.41925062, 0.58275004, 0.85162616, 0.16965313],\n",
              "        [0.23858864, 0.81426251, 0.7179529 , 0.85085677],\n",
              "        [0.54561309, 0.31467396, 0.64061631, 0.09625703],\n",
              "        [0.49274757, 0.27153005, 0.54350758, 0.57779887]]),\n",
              " array([[0.20623447, 0.2770732 , 0.27245003, 0.11269672],\n",
              "        [0.80690022, 0.423254  , 0.59119545, 0.78109183],\n",
              "        [0.62219848, 0.53342217, 0.31353669, 0.71292211],\n",
              "        [0.38211847, 0.4767688 , 0.38615146, 0.36163264],\n",
              "        [0.25900878, 0.81894299, 0.56928358, 0.40648394],\n",
              "        [0.73118165, 0.97052564, 0.59590417, 0.1926154 ]]))"
            ]
          },
          "metadata": {},
          "execution_count": 5
        }
      ]
    },
    {
      "cell_type": "code",
      "source": [
        "training_data"
      ],
      "metadata": {
        "colab": {
          "base_uri": "https://localhost:8080/"
        },
        "id": "7v6GtN4GSuNn",
        "outputId": "f3d941b7-280c-4302-8ad0-cd7fa0bacfe5"
      },
      "execution_count": 4,
      "outputs": [
        {
          "output_type": "execute_result",
          "data": {
            "text/plain": [
              "[[['will'], 'you'],\n",
              " [['you', 'never'], 'will'],\n",
              " [['will', 'know'], 'never'],\n",
              " [['never', 'until'], 'know'],\n",
              " [['know', 'you'], 'until'],\n",
              " [['until', 'try'], 'you'],\n",
              " [['you'], 'try']]"
            ]
          },
          "metadata": {},
          "execution_count": 4
        }
      ]
    },
    {
      "cell_type": "code",
      "source": [
        "onehot_vector, word2idx"
      ],
      "metadata": {
        "colab": {
          "base_uri": "https://localhost:8080/"
        },
        "id": "-RFBQu6NBknp",
        "outputId": "43615ff0-39ec-41bf-f32f-082632301eaa"
      },
      "execution_count": 6,
      "outputs": [
        {
          "output_type": "execute_result",
          "data": {
            "text/plain": [
              "(array([[1, 0, 0, 0, 0, 0],\n",
              "        [0, 1, 0, 0, 0, 0],\n",
              "        [0, 0, 1, 0, 0, 0],\n",
              "        [0, 0, 0, 1, 0, 0],\n",
              "        [0, 0, 0, 0, 1, 0],\n",
              "        [0, 0, 0, 0, 0, 1]], dtype=int32),\n",
              " {'try': 0, 'never': 1, 'you': 2, 'know': 3, 'will': 4, 'until': 5})"
            ]
          },
          "metadata": {},
          "execution_count": 6
        }
      ]
    },
    {
      "cell_type": "code",
      "source": [
        "def softmax(a) :\n",
        "    exp_a = np.exp(a)\n",
        "    sum_exp_a = np.sum(exp_a)\n",
        "    y = exp_a / sum_exp_a\n",
        "    \n",
        "    return y"
      ],
      "metadata": {
        "id": "Oj4FiAmCEqN_"
      },
      "execution_count": 14,
      "outputs": []
    },
    {
      "cell_type": "code",
      "source": [
        "# Word2Vec 학습 구현\n",
        "\n",
        "# 4. Epoch\n",
        "#   - epoch 수 만큼 반복\n",
        "epochs = 20\n",
        "\n",
        "learning_rate = 0.02\n",
        "\n",
        "loss_list = []\n",
        "for epoch in range(epochs):\n",
        "    for context_words, target_word in training_data: \n",
        "        # 1. Feed Forward\n",
        "        #   - context 단어를 W1 행렬에 곱해서 hidden vector 만들기\n",
        "        #   - 만든 hidden vector들 평균내기\n",
        "        vector_list = []\n",
        "        for word in context_words:\n",
        "            vector_list.append(onehot_vector[word2idx[word]])\n",
        "        # print(vector_list)\n",
        "        x = np.vstack(vector_list)\n",
        "        # print(x) # (1, 2) x V\n",
        "        # W1 -> V x N\n",
        "        hidden_vector = x.dot(W1) # (1, 2) x N -> Hidden Vector\n",
        "        # print(hidden_vector)\n",
        "        # hidden_vector_avg = np.sum(hidden_vector, axis=0)/len(hidden_vector)\n",
        "        # print(hidden_vector_avg) # (N, )\n",
        "\n",
        "        #   - 평균낸 hidden vector를 가지고 W2에 곱해서 Vx1 크기의 벡터로 만들기\n",
        "        #   - softmax 씌워서 합이 1이 되도록 조정\n",
        "        # hidden_vector_avg.reshape(1, N).dot(W2.T) # (1, N) N * V ( 1 x V )\n",
        "        # output_layer = W2.dot(hidden_vector_avg) # V x N * N x 1 -> V x 1\n",
        "        \n",
        "        output_layer = W2.dot(hidden_vector.T) # V x N * N x (1, 2)\n",
        "        # print(output_layer) # V x (1, 2)\n",
        "        output_layer = softmax(output_layer)\n",
        "        # print(output_layer)\n",
        "        real_vector = onehot_vector[word2idx[target_word]]\n",
        "        # print(real_vector)\n",
        "\n",
        "        # 2. Loss 계산\n",
        "        #   - cross entropy loss\n",
        "        loss = -np.sum(real_vector.reshape(-1, 1) * np.log(output_layer)) / len(hidden_vector)\n",
        "        # print(loss)\n",
        "        loss_list.append(loss)\n",
        "\n",
        "        # 3. Backpropagation\n",
        "        #   - 각 행렬에 대해서 편미분한 기울기 구하기\n",
        "        #   - 각 행렬에 대해 기울기 * learning rate 만큼 가중치 update\n",
        "        \n",
        "        # W2 기울기\n",
        "        # Y_hat - Y\n",
        "        diff = output_layer - real_vector.reshape(-1, 1) # V x (1, 2) - real_vector (V, 1) numpy broadcast 활용\n",
        "        # print(diff) # V x (1, 2)\n",
        "        # Hidden Vector와 dot_product -> V x N\n",
        "        # V x (1, 2) * (1, 2) x N -> V x N\n",
        "        gradient_w2 = diff.dot(hidden_vector)\n",
        "        # print(gradient_w2)\n",
        "\n",
        "        # W1 기울기 V x N\n",
        "        # X * (W2 * diff) -> (1, 2) x V * ( V x N * V x (1, 2) )\n",
        "        # ( V x N * V x (1, 2) ) -> (1, 2) x N\n",
        "        # V x (1, 2) * (1, 2) x N -> V x N\n",
        "        temp = diff.T.dot(W2) # (1, 2)x V * V x N -> (1, 2) x N\n",
        "        gradient_w1 = x.T.dot(temp) # V x (1, 2) * (1, 2) x N -> V x N\n",
        "        # print(gradient_w1)\n",
        "\n",
        "        W1 -= learning_rate * gradient_w1\n",
        "        W2 -= learning_rate * gradient_w2"
      ],
      "metadata": {
        "id": "KsGCDRYmPAr4"
      },
      "execution_count": 46,
      "outputs": []
    },
    {
      "cell_type": "code",
      "source": [
        "word2idx"
      ],
      "metadata": {
        "colab": {
          "base_uri": "https://localhost:8080/"
        },
        "id": "5coHrDXLLBPH",
        "outputId": "9a305465-47c5-4b96-8b88-bb3c04887e1e"
      },
      "execution_count": 47,
      "outputs": [
        {
          "output_type": "execute_result",
          "data": {
            "text/plain": [
              "{'try': 0, 'never': 1, 'you': 2, 'know': 3, 'will': 4, 'until': 5}"
            ]
          },
          "metadata": {},
          "execution_count": 47
        }
      ]
    },
    {
      "cell_type": "code",
      "source": [
        "sent = 'you will never know until you try'\n",
        "\n",
        "w1v = W1[word2idx['never']]\n",
        "w2v = W1[word2idx['until']]\n",
        "\n",
        "cos_sim = lambda x, y : np.sum(x * y) / (np.linalg.norm(x) * np.linalg.norm(y))\n",
        "cos_sim(w1v, w2v)"
      ],
      "metadata": {
        "id": "MQK-iasPT-7m",
        "colab": {
          "base_uri": "https://localhost:8080/"
        },
        "outputId": "16853062-a91e-4fcb-ef83-b0cc3cabdda6"
      },
      "execution_count": 48,
      "outputs": [
        {
          "output_type": "execute_result",
          "data": {
            "text/plain": [
              "0.8789481252209215"
            ]
          },
          "metadata": {},
          "execution_count": 48
        }
      ]
    },
    {
      "cell_type": "code",
      "source": [
        "from matplotlib import pyplot as plt\n",
        "\n",
        "plt.plot(loss_list)"
      ],
      "metadata": {
        "id": "pEQT30fKIoT7",
        "colab": {
          "base_uri": "https://localhost:8080/",
          "height": 449
        },
        "outputId": "6fba6fe3-6bf2-4e29-e9c5-94a7e7786319"
      },
      "execution_count": 49,
      "outputs": [
        {
          "output_type": "execute_result",
          "data": {
            "text/plain": [
              "[<matplotlib.lines.Line2D at 0x7f3b0bfd4940>]"
            ]
          },
          "metadata": {},
          "execution_count": 49
        },
        {
          "output_type": "display_data",
          "data": {
            "text/plain": [
              "<Figure size 640x480 with 1 Axes>"
            ],
            "image/png": "[encoded data removed]"
          },
          "metadata": {}
        }
      ]
    },
    {
      "cell_type": "code",
      "source": [
        "# 대량 데이터 처리\n",
        "\n",
        "# 1. 입력 개선 (onehot_vector를 만들지 않고, word2idx 딕셔너리 통해서 hidden_layer를 계산)\n",
        "# 2. loss 계산이 전체 단어에 대해서 1, 0을 계산하는게 아니라 해당 target_word만 1, 0 binary cross entropy 계산\n",
        "# (sigmoid 함수 output_layer에)\n",
        "# 3. (오답도 학습을 하기 위해 sampling을 통해서 0으로 예측해야 되는 단어들도 같이 학습시킨다.) W2에서 index를 통해 뽑아서 행렬곱 \n",
        "# (output_layer들 각각 나온다.)\n",
        "\n",
        "\n",
        "# 문맥 단어, 타겟 단어 (2천만개)\n",
        "# 4. batch_size (속도 개선)\n",
        "# 128개씩, 256개씩\n",
        "\n",
        "# 2천만번 계산할 것인지\n",
        "# 15만 6천번 연산할 것인지\n"
      ],
      "metadata": {
        "id": "I4P_Vs3TLpVg"
      },
      "execution_count": null,
      "outputs": []
    },
    {
      "cell_type": "code",
      "source": [
        "training_data\n",
        "training_data2 = []\n",
        "for context_words, target_word in training_data:\n",
        "    for word in context_words:\n",
        "        training_data2.append([word, target_word])\n",
        "training_data"
      ],
      "metadata": {
        "colab": {
          "base_uri": "https://localhost:8080/"
        },
        "id": "FCVd4GcnU2ko",
        "outputId": "4e83cc74-c5b6-4c98-bd7c-72e903ffcd88"
      },
      "execution_count": 53,
      "outputs": [
        {
          "output_type": "execute_result",
          "data": {
            "text/plain": [
              "[[['will'], 'you'],\n",
              " [['you', 'never'], 'will'],\n",
              " [['will', 'know'], 'never'],\n",
              " [['never', 'until'], 'know'],\n",
              " [['know', 'you'], 'until'],\n",
              " [['until', 'try'], 'you'],\n",
              " [['you'], 'try']]"
            ]
          },
          "metadata": {},
          "execution_count": 53
        }
      ]
    },
    {
      "cell_type": "code",
      "source": [
        "training_data2"
      ],
      "metadata": {
        "colab": {
          "base_uri": "https://localhost:8080/"
        },
        "id": "HNOtdc3mU3RX",
        "outputId": "e3c1de62-27da-4111-b06f-4de6f5bbcda3"
      },
      "execution_count": 55,
      "outputs": [
        {
          "output_type": "execute_result",
          "data": {
            "text/plain": [
              "[['will', 'you'],\n",
              " ['you', 'will'],\n",
              " ['never', 'will'],\n",
              " ['will', 'never'],\n",
              " ['know', 'never'],\n",
              " ['never', 'know'],\n",
              " ['until', 'know'],\n",
              " ['know', 'until'],\n",
              " ['you', 'until'],\n",
              " ['until', 'you'],\n",
              " ['try', 'you'],\n",
              " ['you', 'try']]"
            ]
          },
          "metadata": {},
          "execution_count": 55
        }
      ]
    }
  ]
}